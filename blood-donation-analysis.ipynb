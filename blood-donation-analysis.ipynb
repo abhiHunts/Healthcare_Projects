{
 "cells": [
  {
   "cell_type": "code",
   "execution_count": 1,
   "id": "385ce23e",
   "metadata": {
    "_cell_guid": "b1076dfc-b9ad-4769-8c92-a6c4dae69d19",
    "_uuid": "8f2839f25d086af736a60e9eeb907d3b93b6e0e5",
    "execution": {
     "iopub.execute_input": "2022-12-12T19:37:24.577824Z",
     "iopub.status.busy": "2022-12-12T19:37:24.577290Z",
     "iopub.status.idle": "2022-12-12T19:37:25.766465Z",
     "shell.execute_reply": "2022-12-12T19:37:25.765244Z"
    },
    "papermill": {
     "duration": 1.200895,
     "end_time": "2022-12-12T19:37:25.769657",
     "exception": false,
     "start_time": "2022-12-12T19:37:24.568762",
     "status": "completed"
    },
    "tags": []
   },
   "outputs": [],
   "source": [
    "import pandas as pd\n",
    "import numpy as np\n",
    "import seaborn as sns\n",
    "import matplotlib.pyplot as plt"
   ]
  },
  {
   "cell_type": "code",
   "execution_count": 2,
   "id": "7cebb90a",
   "metadata": {
    "execution": {
     "iopub.execute_input": "2022-12-12T19:37:25.781908Z",
     "iopub.status.busy": "2022-12-12T19:37:25.781098Z",
     "iopub.status.idle": "2022-12-12T19:37:25.805732Z",
     "shell.execute_reply": "2022-12-12T19:37:25.804611Z"
    },
    "papermill": {
     "duration": 0.033774,
     "end_time": "2022-12-12T19:37:25.808397",
     "exception": false,
     "start_time": "2022-12-12T19:37:25.774623",
     "status": "completed"
    },
    "tags": []
   },
   "outputs": [],
   "source": [
    "df = pd.read_csv('/kaggle/input/predicting-blood-analysis/blood-train.csv')"
   ]
  },
  {
   "cell_type": "code",
   "execution_count": 3,
   "id": "5605ae60",
   "metadata": {
    "execution": {
     "iopub.execute_input": "2022-12-12T19:37:25.821136Z",
     "iopub.status.busy": "2022-12-12T19:37:25.820363Z",
     "iopub.status.idle": "2022-12-12T19:37:25.842922Z",
     "shell.execute_reply": "2022-12-12T19:37:25.841161Z"
    },
    "papermill": {
     "duration": 0.03225,
     "end_time": "2022-12-12T19:37:25.845923",
     "exception": false,
     "start_time": "2022-12-12T19:37:25.813673",
     "status": "completed"
    },
    "tags": []
   },
   "outputs": [
    {
     "data": {
      "text/html": [
       "<div>\n",
       "<style scoped>\n",
       "    .dataframe tbody tr th:only-of-type {\n",
       "        vertical-align: middle;\n",
       "    }\n",
       "\n",
       "    .dataframe tbody tr th {\n",
       "        vertical-align: top;\n",
       "    }\n",
       "\n",
       "    .dataframe thead th {\n",
       "        text-align: right;\n",
       "    }\n",
       "</style>\n",
       "<table border=\"1\" class=\"dataframe\">\n",
       "  <thead>\n",
       "    <tr style=\"text-align: right;\">\n",
       "      <th></th>\n",
       "      <th>Unnamed: 0</th>\n",
       "      <th>Months since Last Donation</th>\n",
       "      <th>Number of Donations</th>\n",
       "      <th>Total Volume Donated (c.c.)</th>\n",
       "      <th>Months since First Donation</th>\n",
       "      <th>Made Donation in March 2007</th>\n",
       "    </tr>\n",
       "  </thead>\n",
       "  <tbody>\n",
       "    <tr>\n",
       "      <th>0</th>\n",
       "      <td>619</td>\n",
       "      <td>2</td>\n",
       "      <td>50</td>\n",
       "      <td>12500</td>\n",
       "      <td>98</td>\n",
       "      <td>1</td>\n",
       "    </tr>\n",
       "    <tr>\n",
       "      <th>1</th>\n",
       "      <td>664</td>\n",
       "      <td>0</td>\n",
       "      <td>13</td>\n",
       "      <td>3250</td>\n",
       "      <td>28</td>\n",
       "      <td>1</td>\n",
       "    </tr>\n",
       "    <tr>\n",
       "      <th>2</th>\n",
       "      <td>441</td>\n",
       "      <td>1</td>\n",
       "      <td>16</td>\n",
       "      <td>4000</td>\n",
       "      <td>35</td>\n",
       "      <td>1</td>\n",
       "    </tr>\n",
       "    <tr>\n",
       "      <th>3</th>\n",
       "      <td>160</td>\n",
       "      <td>2</td>\n",
       "      <td>20</td>\n",
       "      <td>5000</td>\n",
       "      <td>45</td>\n",
       "      <td>1</td>\n",
       "    </tr>\n",
       "    <tr>\n",
       "      <th>4</th>\n",
       "      <td>358</td>\n",
       "      <td>1</td>\n",
       "      <td>24</td>\n",
       "      <td>6000</td>\n",
       "      <td>77</td>\n",
       "      <td>0</td>\n",
       "    </tr>\n",
       "  </tbody>\n",
       "</table>\n",
       "</div>"
      ],
      "text/plain": [
       "   Unnamed: 0  Months since Last Donation  Number of Donations  \\\n",
       "0         619                           2                   50   \n",
       "1         664                           0                   13   \n",
       "2         441                           1                   16   \n",
       "3         160                           2                   20   \n",
       "4         358                           1                   24   \n",
       "\n",
       "   Total Volume Donated (c.c.)  Months since First Donation  \\\n",
       "0                        12500                           98   \n",
       "1                         3250                           28   \n",
       "2                         4000                           35   \n",
       "3                         5000                           45   \n",
       "4                         6000                           77   \n",
       "\n",
       "   Made Donation in March 2007  \n",
       "0                            1  \n",
       "1                            1  \n",
       "2                            1  \n",
       "3                            1  \n",
       "4                            0  "
      ]
     },
     "execution_count": 3,
     "metadata": {},
     "output_type": "execute_result"
    }
   ],
   "source": [
    "df.head()"
   ]
  },
  {
   "cell_type": "code",
   "execution_count": 4,
   "id": "bd7d3a4c",
   "metadata": {
    "execution": {
     "iopub.execute_input": "2022-12-12T19:37:25.858332Z",
     "iopub.status.busy": "2022-12-12T19:37:25.857839Z",
     "iopub.status.idle": "2022-12-12T19:37:25.862869Z",
     "shell.execute_reply": "2022-12-12T19:37:25.861819Z"
    },
    "papermill": {
     "duration": 0.013898,
     "end_time": "2022-12-12T19:37:25.865112",
     "exception": false,
     "start_time": "2022-12-12T19:37:25.851214",
     "status": "completed"
    },
    "tags": []
   },
   "outputs": [],
   "source": [
    "# remove Unnamed: 0 as it is unnacessary \n",
    "df = df.iloc[:,1:]"
   ]
  },
  {
   "cell_type": "code",
   "execution_count": 5,
   "id": "040bcf2f",
   "metadata": {
    "execution": {
     "iopub.execute_input": "2022-12-12T19:37:25.877314Z",
     "iopub.status.busy": "2022-12-12T19:37:25.876755Z",
     "iopub.status.idle": "2022-12-12T19:37:26.337852Z",
     "shell.execute_reply": "2022-12-12T19:37:26.336098Z"
    },
    "papermill": {
     "duration": 0.470643,
     "end_time": "2022-12-12T19:37:26.340827",
     "exception": false,
     "start_time": "2022-12-12T19:37:25.870184",
     "status": "completed"
    },
    "tags": []
   },
   "outputs": [
    {
     "data": {
      "text/plain": [
       "<AxesSubplot:>"
      ]
     },
     "execution_count": 5,
     "metadata": {},
     "output_type": "execute_result"
    },
    {
     "data": {
      "image/png": "[encoded data removed]",
      "text/plain": [
       "<Figure size 432x288 with 2 Axes>"
      ]
     },
     "metadata": {
      "needs_background": "light"
     },
     "output_type": "display_data"
    }
   ],
   "source": [
    "sns.heatmap(df.corr(), annot=True)"
   ]
  },
  {
   "cell_type": "code",
   "execution_count": 6,
   "id": "bfbd5621",
   "metadata": {
    "execution": {
     "iopub.execute_input": "2022-12-12T19:37:26.354256Z",
     "iopub.status.busy": "2022-12-12T19:37:26.353809Z",
     "iopub.status.idle": "2022-12-12T19:37:26.361960Z",
     "shell.execute_reply": "2022-12-12T19:37:26.360563Z"
    },
    "papermill": {
     "duration": 0.017689,
     "end_time": "2022-12-12T19:37:26.364450",
     "exception": false,
     "start_time": "2022-12-12T19:37:26.346761",
     "status": "completed"
    },
    "tags": []
   },
   "outputs": [
    {
     "data": {
      "text/plain": [
       "Index(['Months since Last Donation', 'Number of Donations',\n",
       "       'Total Volume Donated (c.c.)', 'Months since First Donation',\n",
       "       'Made Donation in March 2007'],\n",
       "      dtype='object')"
      ]
     },
     "execution_count": 6,
     "metadata": {},
     "output_type": "execute_result"
    }
   ],
   "source": [
    "df.columns"
   ]
  },
  {
   "cell_type": "code",
   "execution_count": 7,
   "id": "3de8e7f0",
   "metadata": {
    "execution": {
     "iopub.execute_input": "2022-12-12T19:37:26.378085Z",
     "iopub.status.busy": "2022-12-12T19:37:26.377663Z",
     "iopub.status.idle": "2022-12-12T19:37:26.391860Z",
     "shell.execute_reply": "2022-12-12T19:37:26.390594Z"
    },
    "papermill": {
     "duration": 0.024502,
     "end_time": "2022-12-12T19:37:26.394821",
     "exception": false,
     "start_time": "2022-12-12T19:37:26.370319",
     "status": "completed"
    },
    "tags": []
   },
   "outputs": [],
   "source": [
    "\n",
    "df['Donation Period'] = df['Months since First Donation'] - df['Months since Last Donation']\n",
    "df.drop(['Total Volume Donated (c.c.)', 'Months since First Donation', 'Months since Last Donation'], axis=1,inplace=True)"
   ]
  },
  {
   "cell_type": "code",
   "execution_count": 8,
   "id": "248c90a9",
   "metadata": {
    "execution": {
     "iopub.execute_input": "2022-12-12T19:37:26.409186Z",
     "iopub.status.busy": "2022-12-12T19:37:26.408659Z",
     "iopub.status.idle": "2022-12-12T19:37:26.738491Z",
     "shell.execute_reply": "2022-12-12T19:37:26.736266Z"
    },
    "papermill": {
     "duration": 0.341086,
     "end_time": "2022-12-12T19:37:26.741927",
     "exception": false,
     "start_time": "2022-12-12T19:37:26.400841",
     "status": "completed"
    },
    "tags": []
   },
   "outputs": [
    {
     "data": {
      "text/plain": [
       "<AxesSubplot:>"
      ]
     },
     "execution_count": 8,
     "metadata": {},
     "output_type": "execute_result"
    },
    {
     "data": {
      "image/png": "[encoded data removed]",
      "text/plain": [
       "<Figure size 432x288 with 2 Axes>"
      ]
     },
     "metadata": {
      "needs_background": "light"
     },
     "output_type": "display_data"
    }
   ],
   "source": [
    "sns.heatmap(df.corr(), annot=True)"
   ]
  },
  {
   "cell_type": "code",
   "execution_count": 9,
   "id": "ff697a53",
   "metadata": {
    "execution": {
     "iopub.execute_input": "2022-12-12T19:37:26.757543Z",
     "iopub.status.busy": "2022-12-12T19:37:26.757039Z",
     "iopub.status.idle": "2022-12-12T19:37:26.985535Z",
     "shell.execute_reply": "2022-12-12T19:37:26.983996Z"
    },
    "papermill": {
     "duration": 0.239115,
     "end_time": "2022-12-12T19:37:26.988266",
     "exception": false,
     "start_time": "2022-12-12T19:37:26.749151",
     "status": "completed"
    },
    "tags": []
   },
   "outputs": [],
   "source": [
    "from sklearn.model_selection import train_test_split\n",
    "\n",
    "X_train, X_test, y_train, y_test = train_test_split(\n",
    "                df.drop(['Made Donation in March 2007'],axis=1),\n",
    "                df['Made Donation in March 2007'], test_size=0.20, random_state=42)"
   ]
  },
  {
   "cell_type": "code",
   "execution_count": 10,
   "id": "48b7609b",
   "metadata": {
    "execution": {
     "iopub.execute_input": "2022-12-12T19:37:27.002751Z",
     "iopub.status.busy": "2022-12-12T19:37:27.002323Z",
     "iopub.status.idle": "2022-12-12T19:37:27.125583Z",
     "shell.execute_reply": "2022-12-12T19:37:27.124642Z"
    },
    "papermill": {
     "duration": 0.136512,
     "end_time": "2022-12-12T19:37:27.131098",
     "exception": false,
     "start_time": "2022-12-12T19:37:26.994586",
     "status": "completed"
    },
    "tags": []
   },
   "outputs": [
    {
     "name": "stderr",
     "output_type": "stream",
     "text": [
      "/opt/conda/lib/python3.7/site-packages/seaborn/_decorators.py:43: FutureWarning: Pass the following variable as a keyword arg: x. From version 0.12, the only valid positional argument will be `data`, and passing other arguments without an explicit keyword will result in an error or misinterpretation.\n",
      "  FutureWarning\n"
     ]
    },
    {
     "data": {
      "text/plain": [
       "<AxesSubplot:xlabel='Made Donation in March 2007', ylabel='count'>"
      ]
     },
     "execution_count": 10,
     "metadata": {},
     "output_type": "execute_result"
    },
    {
     "data": {
      "image/png": "[encoded data removed]",
      "text/plain": [
       "<Figure size 432x288 with 1 Axes>"
      ]
     },
     "metadata": {
      "needs_background": "light"
     },
     "output_type": "display_data"
    }
   ],
   "source": [
    "sns.countplot(df['Made Donation in March 2007'])"
   ]
  },
  {
   "cell_type": "code",
   "execution_count": 11,
   "id": "cd7258d8",
   "metadata": {
    "execution": {
     "iopub.execute_input": "2022-12-12T19:37:27.167370Z",
     "iopub.status.busy": "2022-12-12T19:37:27.166006Z",
     "iopub.status.idle": "2022-12-12T19:37:27.176814Z",
     "shell.execute_reply": "2022-12-12T19:37:27.175779Z"
    },
    "papermill": {
     "duration": 0.031977,
     "end_time": "2022-12-12T19:37:27.179290",
     "exception": false,
     "start_time": "2022-12-12T19:37:27.147313",
     "status": "completed"
    },
    "tags": []
   },
   "outputs": [],
   "source": [
    "\n",
    "from sklearn.preprocessing import StandardScaler\n",
    "sc = StandardScaler()\n",
    "X_train_sc = sc.fit_transform(X_train)\n",
    "X_test_sc = sc.transform(X_test)\n"
   ]
  },
  {
   "cell_type": "code",
   "execution_count": 12,
   "id": "3ac98d7f",
   "metadata": {
    "execution": {
     "iopub.execute_input": "2022-12-12T19:37:27.195215Z",
     "iopub.status.busy": "2022-12-12T19:37:27.194593Z",
     "iopub.status.idle": "2022-12-12T19:37:27.198777Z",
     "shell.execute_reply": "2022-12-12T19:37:27.197968Z"
    },
    "papermill": {
     "duration": 0.014743,
     "end_time": "2022-12-12T19:37:27.200857",
     "exception": false,
     "start_time": "2022-12-12T19:37:27.186114",
     "status": "completed"
    },
    "tags": []
   },
   "outputs": [],
   "source": [
    "from sklearn.metrics import confusion_matrix, classification_report, accuracy_score\n"
   ]
  },
  {
   "cell_type": "code",
   "execution_count": 13,
   "id": "27ecb164",
   "metadata": {
    "execution": {
     "iopub.execute_input": "2022-12-12T19:37:27.216351Z",
     "iopub.status.busy": "2022-12-12T19:37:27.215745Z",
     "iopub.status.idle": "2022-12-12T19:37:27.312412Z",
     "shell.execute_reply": "2022-12-12T19:37:27.311174Z"
    },
    "papermill": {
     "duration": 0.10737,
     "end_time": "2022-12-12T19:37:27.315037",
     "exception": false,
     "start_time": "2022-12-12T19:37:27.207667",
     "status": "completed"
    },
    "tags": []
   },
   "outputs": [
    {
     "data": {
      "text/plain": [
       "0.75"
      ]
     },
     "execution_count": 13,
     "metadata": {},
     "output_type": "execute_result"
    }
   ],
   "source": [
    "\n",
    "# Support vector classifier\n",
    "from sklearn.svm import SVC\n",
    "svc_classifier = SVC()\n",
    "svc_classifier.fit(X_train, y_train)\n",
    "y_pred_scv = svc_classifier.predict(X_test)\n",
    "accuracy_score(y_test, y_pred_scv)\n"
   ]
  },
  {
   "cell_type": "code",
   "execution_count": 14,
   "id": "e64177b0",
   "metadata": {
    "execution": {
     "iopub.execute_input": "2022-12-12T19:37:27.330308Z",
     "iopub.status.busy": "2022-12-12T19:37:27.329837Z",
     "iopub.status.idle": "2022-12-12T19:37:27.349607Z",
     "shell.execute_reply": "2022-12-12T19:37:27.348396Z"
    },
    "papermill": {
     "duration": 0.030468,
     "end_time": "2022-12-12T19:37:27.352019",
     "exception": false,
     "start_time": "2022-12-12T19:37:27.321551",
     "status": "completed"
    },
    "tags": []
   },
   "outputs": [
    {
     "data": {
      "text/plain": [
       "0.75"
      ]
     },
     "execution_count": 14,
     "metadata": {},
     "output_type": "execute_result"
    }
   ],
   "source": [
    "# Train with Standard scaled Data\n",
    "svc_classifier2 = SVC()\n",
    "svc_classifier2.fit(X_train_sc, y_train)\n",
    "y_pred_svc_sc = svc_classifier2.predict(X_test_sc)\n",
    "accuracy_score(y_test, y_pred_svc_sc)"
   ]
  },
  {
   "cell_type": "code",
   "execution_count": 15,
   "id": "0f35fdc4",
   "metadata": {
    "execution": {
     "iopub.execute_input": "2022-12-12T19:37:27.367150Z",
     "iopub.status.busy": "2022-12-12T19:37:27.366681Z",
     "iopub.status.idle": "2022-12-12T19:37:27.800873Z",
     "shell.execute_reply": "2022-12-12T19:37:27.799630Z"
    },
    "papermill": {
     "duration": 0.44556,
     "end_time": "2022-12-12T19:37:27.804113",
     "exception": false,
     "start_time": "2022-12-12T19:37:27.358553",
     "status": "completed"
    },
    "tags": []
   },
   "outputs": [
    {
     "data": {
      "text/plain": [
       "0.7758620689655172"
      ]
     },
     "execution_count": 15,
     "metadata": {},
     "output_type": "execute_result"
    }
   ],
   "source": [
    "\n",
    "# XGBoost Classifier\n",
    "from xgboost import XGBClassifier\n",
    "xgb_classifier = XGBClassifier()\n",
    "xgb_classifier.fit(X_train, y_train)\n",
    "y_pred_xgb = xgb_classifier.predict(X_test)\n",
    "accuracy_score(y_test, y_pred_xgb)"
   ]
  },
  {
   "cell_type": "code",
   "execution_count": null,
   "id": "38f00789",
   "metadata": {
    "papermill": {
     "duration": 0.006635,
     "end_time": "2022-12-12T19:37:27.820363",
     "exception": false,
     "start_time": "2022-12-12T19:37:27.813728",
     "status": "completed"
    },
    "tags": []
   },
   "outputs": [],
   "source": []
  }
 ],
 "metadata": {
  "kernelspec": {
   "display_name": "Python 3",
   "language": "python",
   "name": "python3"
  },
  "language_info": {
   "codemirror_mode": {
    "name": "ipython",
    "version": 3
   },
   "file_extension": ".py",
   "mimetype": "text/x-python",
   "name": "python",
   "nbconvert_exporter": "python",
   "pygments_lexer": "ipython3",
   "version": "3.7.12"
  },
  "papermill": {
   "default_parameters": {},
   "duration": 13.20991,
   "end_time": "2022-12-12T19:37:28.852775",
   "environment_variables": {},
   "exception": null,
   "input_path": "__notebook__.ipynb",
   "output_path": "__notebook__.ipynb",
   "parameters": {},
   "start_time": "2022-12-12T19:37:15.642865",
   "version": "2.3.4"
  }
 },
 "nbformat": 4,
 "nbformat_minor": 5
}
